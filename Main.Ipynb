{
 "cells": [
  {
   "cell_type": "code",
   "execution_count": 35,
   "metadata": {},
   "outputs": [],
   "source": [
    "# import modules\n",
    "import os\n",
    "import csv"
   ]
  },
  {
   "cell_type": "code",
   "execution_count": 36,
   "metadata": {},
   "outputs": [],
   "source": [
    "#Create Path to CSV file\n",
    "CSVpath = os.path.join('.','Resources', 'budget_data.csv')"
   ]
  },
  {
   "cell_type": "code",
   "execution_count": 37,
   "metadata": {},
   "outputs": [
    {
     "name": "stdout",
     "output_type": "stream",
     "text": [
      "86\n"
     ]
    }
   ],
   "source": [
    "#Count the number of rows\n",
    "with open(CSVpath) as csvfile:\n",
    "    csvreader = csv.reader(csvfile, delimiter= \",\")\n",
    "    next(csvreader)\n",
    "    rowcount = len(list(csvreader))\n",
    "    print(rowcount)\n",
    "\n",
    "    \n"
   ]
  },
  {
   "cell_type": "code",
   "execution_count": 38,
   "metadata": {},
   "outputs": [],
   "source": [
    "#Create a list where the first value can be read no matter what csv file is read.\n",
    "with open(CSVpath) as csvfile:\n",
    "    csvreader = csv.reader(csvfile, delimiter= \",\")\n",
    "    next(csvreader)\n",
    "    firstvaluelist = []\n",
    "    for row in csvreader:\n",
    "        firstvaluelist.append(row[1])\n",
    "    firstvalue = firstvaluelist[0]\n"
   ]
  },
  {
   "cell_type": "code",
   "execution_count": 39,
   "metadata": {},
   "outputs": [
    {
     "name": "stdout",
     "output_type": "stream",
     "text": [
      "22564198\n"
     ]
    }
   ],
   "source": [
    "\n",
    "#Find the Total\n",
    "with open(CSVpath, 'r') as csvfile:\n",
    "    csvreader = csv.reader(csvfile, delimiter= \",\")\n",
    "    next(csvreader)\n",
    "    Total = int(0)\n",
    "    for row in csvreader:\n",
    "        Total = int(row[1]) + Total\n",
    "    print(Total)\n",
    "        "
   ]
  },
  {
   "cell_type": "code",
   "execution_count": 40,
   "metadata": {},
   "outputs": [
    {
     "name": "stdout",
     "output_type": "stream",
     "text": [
      "-8311.105882352942\n"
     ]
    }
   ],
   "source": [
    "#Find the average change\n",
    "with open(CSVpath, 'r') as csvfile:\n",
    "    csvreader = csv.reader(csvfile, delimiter= \",\")\n",
    "    next(csvreader)\n",
    "    sub0 = int(firstvalue)\n",
    "    change = 0\n",
    "    cumulativechange = 0\n",
    "    for row in csvreader:\n",
    "        sub1 = int(row[1])\n",
    "        change = sub1 - sub0\n",
    "        sub0 = sub1\n",
    "        cumulativechange = change + cumulativechange\n",
    "    averagechange = cumulativechange/(rowcount-1)\n",
    "    print(averagechange)\n",
    "        "
   ]
  },
  {
   "cell_type": "code",
   "execution_count": 41,
   "metadata": {},
   "outputs": [
    {
     "name": "stdout",
     "output_type": "stream",
     "text": [
      "1862002\n",
      "Aug-16\n"
     ]
    }
   ],
   "source": [
    "# Find the greatest increase\n",
    "with open(CSVpath, 'r') as csvfile:\n",
    "    csvreader = csv.reader(csvfile, delimiter= \",\")\n",
    "    next(csvreader)\n",
    "    sub0 = int(firstvalue)\n",
    "    change = 0\n",
    "    Greatestincrease = 0\n",
    "    for row in csvreader:\n",
    "        sub1 = int(row[1])\n",
    "        change = sub1 - sub0\n",
    "        if change > Greatestincrease:\n",
    "            Greatestincrease = change\n",
    "            MonthYear = row[0]\n",
    "        sub0 = sub1 \n",
    "    print(Greatestincrease)\n",
    "    print(MonthYear)\n",
    "    "
   ]
  },
  {
   "cell_type": "code",
   "execution_count": 42,
   "metadata": {},
   "outputs": [
    {
     "name": "stdout",
     "output_type": "stream",
     "text": [
      "-1825558\n",
      "Feb-14\n"
     ]
    }
   ],
   "source": [
    "# Find the greatest decrease\n",
    "with open(CSVpath, 'r') as csvfile:\n",
    "    csvreader = csv.reader(csvfile, delimiter= \",\")\n",
    "    next(csvreader)\n",
    "    sub0 = int(firstvalue)\n",
    "    change = 0\n",
    "    Greatestdecrease = 0\n",
    "    for row in csvreader:\n",
    "        sub1 = int(row[1])\n",
    "        change = sub1 - sub0\n",
    "        if change < Greatestdecrease:\n",
    "            Greatestdecrease = change\n",
    "            MonthYear = row[0]\n",
    "        sub0 = sub1 \n",
    "    print(Greatestdecrease)\n",
    "    print(MonthYear)"
   ]
  },
  {
   "cell_type": "code",
   "execution_count": 43,
   "metadata": {},
   "outputs": [
    {
     "name": "stdout",
     "output_type": "stream",
     "text": [
      "Financial Analysis\n",
      "------------------------------\n",
      "Total Months: 86\n",
      "\n",
      "Total: $22564198\n",
      "\n",
      "Average Change $-8311.105882352942\n",
      "\n",
      "Greatest Increase In Profits: $1862002\n",
      "\n",
      "Greatest Decrease In Profits: $-1825558\n"
     ]
    }
   ],
   "source": [
    "#Print Results\n",
    "print(\"Financial Analysis\")\n",
    "print(\"------------------------------\")\n",
    "print(f'Total Months: {rowcount}')\n",
    "print(\"\")\n",
    "print(f'Total: ${Total}')\n",
    "print(\"\")\n",
    "print(f'Average Change ${averagechange}')\n",
    "print(\"\")\n",
    "print(f'Greatest Increase In Profits: ${Greatestincrease}')\n",
    "print(\"\")\n",
    "print(f'Greatest Decrease In Profits: ${Greatestdecrease}')"
   ]
  }
 ],
 "metadata": {
  "kernelspec": {
   "display_name": "base",
   "language": "python",
   "name": "python3"
  },
  "language_info": {
   "codemirror_mode": {
    "name": "ipython",
    "version": 3
   },
   "file_extension": ".py",
   "mimetype": "text/x-python",
   "name": "python",
   "nbconvert_exporter": "python",
   "pygments_lexer": "ipython3",
   "version": "3.11.5"
  }
 },
 "nbformat": 4,
 "nbformat_minor": 2
}
